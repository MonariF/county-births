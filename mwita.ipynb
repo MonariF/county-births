{
  "nbformat": 4,
  "nbformat_minor": 0,
  "metadata": {
    "colab": {
      "provenance": []
    },
    "kernelspec": {
      "name": "python3",
      "display_name": "Python 3"
    },
    "language_info": {
      "name": "python"
    }
  },
  "cells": [
    {
      "cell_type": "code",
      "execution_count": null,
      "metadata": {
        "id": "hm8WZJt9tIih",
        "colab": {
          "base_uri": "https://localhost:8080/"
        },
        "outputId": "9d8cfe28-b00a-48db-8639-4e70bcbcb132"
      },
      "outputs": [
        {
          "output_type": "stream",
          "name": "stdout",
          "text": [
            "          REGION    COUNTY  SUBCOUNTY Date of Birth     Sex Nature of birth  \\\n",
            "0  NORTH EASTERN  GARISSA   BALAMBALA    28/11/2021  Female           Alive   \n",
            "1  NORTH EASTERN  GARISSA   BALAMBALA    01/01/2022  Female           Alive   \n",
            "2  NORTH EASTERN  GARISSA   BALAMBALA    05/11/2021    Male           Alive   \n",
            "3  NORTH EASTERN  GARISSA   BALAMBALA    15/11/2021  Female           Alive   \n",
            "4  NORTH EASTERN  GARISSA   BALAMBALA    18/11/2021    Male           Alive   \n",
            "\n",
            "  Place of birth     Type of place  Age of the mother Marital status  \\\n",
            "0        Jarajara             Home                 30        Married   \n",
            "1            Kuno             Home                 23        Married   \n",
            "2      Kuno Disp.  Health Facility                 18        Married   \n",
            "3      Kuno Disp.  Health Facility                 23        Married   \n",
            "4      Kuno Disp.  Health Facility                 32        Married   \n",
            "\n",
            "  Nationality of the mother     Ocupation of the mother  \\\n",
            "0                        Kenyan               Housewife   \n",
            "1                        Kenyan               Housewife   \n",
            "2                        Kenyan               Housewife   \n",
            "3                        Kenyan               Housewife   \n",
            "4                        Kenyan               Housewife   \n",
            "\n",
            "  Mother's level of Education Place of Residence Date of Registration  \n",
            "0                  Not Stated          Balambala           24/01/2022  \n",
            "1                  Not Stated          Balambala           31/01/2022  \n",
            "2                  Not Stated          Balambala           31/01/2022  \n",
            "3                  Not Stated          Balambala           31/01/2022  \n",
            "4                  Not Stated          Balambala           31/01/2022  \n"
          ]
        }
      ],
      "source": [
        "import pandas as pd\n",
        "\n",
        "# Replace 'your_file.csv' with the actual path to your CSV file\n",
        "file_path = '/content/drive/MyDrive/Data/NORTH_EASTERN.csv'\n",
        "\n",
        "# Read the CSV file into a Pandas DataFrame\n",
        "data = pd.read_csv(file_path)\n",
        "\n",
        "# Display the first few rows of the DataFrame\n",
        "print(data.head())\n"
      ]
    },
    {
      "cell_type": "code",
      "source": [
        "import pandas as pd\n",
        "\n",
        "# Assuming 'data' is your DataFrame\n",
        "# If 'data' is not defined, replace it with your actual DataFrame name\n",
        "\n",
        "# Generate summary statistics for numeric columns\n",
        "numeric_summary = data.describe()\n",
        "\n",
        "# Display summary statistics\n",
        "print(\"Summary Statistics for Numeric Columns:\")\n",
        "print(numeric_summary)\n",
        "\n",
        "# Display information about data types and missing values\n",
        "print(\"\\nData Information:\")\n",
        "data.info()\n"
      ],
      "metadata": {
        "colab": {
          "base_uri": "https://localhost:8080/"
        },
        "id": "5vZ4Ecef7XGV",
        "outputId": "b9d1a897-cfe6-421f-ca17-c26001335fe3"
      },
      "execution_count": null,
      "outputs": [
        {
          "output_type": "stream",
          "name": "stdout",
          "text": [
            "Summary Statistics for Numeric Columns:\n",
            "       Age of the mother\n",
            "count       32342.000000\n",
            "mean           29.519139\n",
            "std            13.343805\n",
            "min            13.000000\n",
            "25%            23.000000\n",
            "50%            27.000000\n",
            "75%            32.000000\n",
            "max            99.000000\n",
            "\n",
            "Data Information:\n",
            "<class 'pandas.core.frame.DataFrame'>\n",
            "RangeIndex: 32342 entries, 0 to 32341\n",
            "Data columns (total 15 columns):\n",
            " #   Column                         Non-Null Count  Dtype \n",
            "---  ------                         --------------  ----- \n",
            " 0   REGION                         32342 non-null  object\n",
            " 1   COUNTY                         32342 non-null  object\n",
            " 2   SUBCOUNTY                      32342 non-null  object\n",
            " 3   Date of Birth                  32342 non-null  object\n",
            " 4   Sex                            32342 non-null  object\n",
            " 5   Nature of birth                32342 non-null  object\n",
            " 6   Place of birth                 32342 non-null  object\n",
            " 7   Type of place                  32342 non-null  object\n",
            " 8   Age of the mother              32342 non-null  int64 \n",
            " 9   Marital status                 32342 non-null  object\n",
            " 10  Nationality of the mother      32342 non-null  object\n",
            " 11  Ocupation of the mother        32340 non-null  object\n",
            " 12  Mother's level of Education    32342 non-null  object\n",
            " 13  Place of Residence             32336 non-null  object\n",
            " 14  Date of Registration           32342 non-null  object\n",
            "dtypes: int64(1), object(14)\n",
            "memory usage: 3.7+ MB\n"
          ]
        }
      ]
    },
    {
      "cell_type": "code",
      "source": [],
      "metadata": {
        "id": "J7TngHmubD0g"
      },
      "execution_count": null,
      "outputs": []
    },
    {
      "cell_type": "code",
      "source": [
        "from google.colab import drive\n",
        "\n",
        "# Mount Google Drive\n",
        "drive.mount('/content/drive')\n"
      ],
      "metadata": {
        "colab": {
          "base_uri": "https://localhost:8080/"
        },
        "id": "grkHz5s7bD4r",
        "outputId": "56f9b2c5-2928-4ed4-8086-65e9268350f0"
      },
      "execution_count": null,
      "outputs": [
        {
          "output_type": "stream",
          "name": "stdout",
          "text": [
            "Drive already mounted at /content/drive; to attempt to forcibly remount, call drive.mount(\"/content/drive\", force_remount=True).\n"
          ]
        }
      ]
    },
    {
      "cell_type": "code",
      "source": [
        "file_path = '/content/drive/MyDrive/Data/NORTH_EASTERN.csv'"
      ],
      "metadata": {
        "id": "UHYciosueiuf"
      },
      "execution_count": null,
      "outputs": []
    },
    {
      "cell_type": "code",
      "source": [
        "import pandas as pd\n",
        "\n",
        "# Read the data from Google Drive\n",
        "data = pd.read_csv(file_path)\n",
        "\n",
        "# Display the data\n",
        "print(data.head())\n"
      ],
      "metadata": {
        "colab": {
          "base_uri": "https://localhost:8080/"
        },
        "id": "z6tnDFwke0PE",
        "outputId": "274ff6c3-a60e-448a-b1e6-3996432b72a9"
      },
      "execution_count": null,
      "outputs": [
        {
          "output_type": "stream",
          "name": "stdout",
          "text": [
            "          REGION    COUNTY  SUBCOUNTY Date of Birth     Sex Nature of birth  \\\n",
            "0  NORTH EASTERN  GARISSA   BALAMBALA    28/11/2021  Female           Alive   \n",
            "1  NORTH EASTERN  GARISSA   BALAMBALA    01/01/2022  Female           Alive   \n",
            "2  NORTH EASTERN  GARISSA   BALAMBALA    05/11/2021    Male           Alive   \n",
            "3  NORTH EASTERN  GARISSA   BALAMBALA    15/11/2021  Female           Alive   \n",
            "4  NORTH EASTERN  GARISSA   BALAMBALA    18/11/2021    Male           Alive   \n",
            "\n",
            "  Place of birth     Type of place  Age of the mother Marital status  \\\n",
            "0        Jarajara             Home                 30        Married   \n",
            "1            Kuno             Home                 23        Married   \n",
            "2      Kuno Disp.  Health Facility                 18        Married   \n",
            "3      Kuno Disp.  Health Facility                 23        Married   \n",
            "4      Kuno Disp.  Health Facility                 32        Married   \n",
            "\n",
            "  Nationality of the mother     Ocupation of the mother  \\\n",
            "0                        Kenyan               Housewife   \n",
            "1                        Kenyan               Housewife   \n",
            "2                        Kenyan               Housewife   \n",
            "3                        Kenyan               Housewife   \n",
            "4                        Kenyan               Housewife   \n",
            "\n",
            "  Mother's level of Education Place of Residence Date of Registration  \n",
            "0                  Not Stated          Balambala           24/01/2022  \n",
            "1                  Not Stated          Balambala           31/01/2022  \n",
            "2                  Not Stated          Balambala           31/01/2022  \n",
            "3                  Not Stated          Balambala           31/01/2022  \n",
            "4                  Not Stated          Balambala           31/01/2022  \n"
          ]
        }
      ]
    }
  ]
}